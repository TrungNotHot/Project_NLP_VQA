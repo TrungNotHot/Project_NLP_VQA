{
 "cells": [
  {
   "cell_type": "code",
   "execution_count": 10,
   "metadata": {},
   "outputs": [
    {
     "name": "stdout",
     "output_type": "stream",
     "text": [
      "                                               question  \\\n",
      "0      where are liver stem cells (oval cells) located?   \n",
      "1     what are stained here with an immunohistochemi...   \n",
      "2     what do the areas of white chalky deposits rep...   \n",
      "3     is embolus derived from a lower-extremity deep...   \n",
      "4      how is hyperplasia without atypia characterized?   \n",
      "...                                                 ...   \n",
      "2803  what are there in myxoid liposarcoma with abun...   \n",
      "2804                      is malignant thymoma present?   \n",
      "2805                                   what is present?   \n",
      "2806                                   what is present?   \n",
      "2807                                   what is present?   \n",
      "\n",
      "                                                 answer  \\\n",
      "0                               in the canals of hering   \n",
      "1                  bile duct cells and canals of hering   \n",
      "2                                  foci of fat necrosis   \n",
      "3                                                   yes   \n",
      "4                     by nests of closely packed glands   \n",
      "...                                                 ...   \n",
      "2803  scattered immature adipocytes and more primiti...   \n",
      "2804                                                yes   \n",
      "2805                                        hematologic   \n",
      "2806                                             thymus   \n",
      "2807                                  malignant thymoma   \n",
      "\n",
      "                                            image.bytes     image.path  \n",
      "0     b'\\xff\\xd8\\xff\\xe0\\x00\\x10JFIF\\x00\\x01\\x01\\x01...      img_0.jpg  \n",
      "1     b'\\xff\\xd8\\xff\\xe0\\x00\\x10JFIF\\x00\\x01\\x01\\x01...      img_1.jpg  \n",
      "2     b'\\xff\\xd8\\xff\\xe0\\x00\\x10JFIF\\x00\\x01\\x01\\x01...     img_10.jpg  \n",
      "3     b'\\xff\\xd8\\xff\\xe0\\x00\\x10JFIF\\x00\\x01\\x01\\x01...    img_100.jpg  \n",
      "4     b'\\xff\\xd8\\xff\\xe0\\x00\\x10JFIF\\x00\\x01\\x01\\x01...   img_1000.jpg  \n",
      "...                                                 ...            ...  \n",
      "2803  b'\\xff\\xd8\\xff\\xe0\\x00\\x10JFIF\\x00\\x01\\x01\\x01...   img_1252.jpg  \n",
      "2804  b'\\xff\\xd8\\xff\\xe0\\x00\\x10JFIF\\x00\\x01\\x01\\x01...  img_12520.jpg  \n",
      "2805  b'\\xff\\xd8\\xff\\xe0\\x00\\x10JFIF\\x00\\x01\\x01\\x01...  img_12521.jpg  \n",
      "2806  b'\\xff\\xd8\\xff\\xe0\\x00\\x10JFIF\\x00\\x01\\x01\\x01...  img_12522.jpg  \n",
      "2807  b'\\xff\\xd8\\xff\\xe0\\x00\\x10JFIF\\x00\\x01\\x01\\x01...  img_12523.jpg  \n",
      "\n",
      "[2808 rows x 4 columns]\n"
     ]
    }
   ],
   "source": [
    "import pandas as pd\n",
    "\n",
    "df_fastparquet = pd.read_parquet('train-00000-of-00007-f2d0e9ef9f022d38.parquet', engine='fastparquet')\n",
    "print(df_fastparquet)"
   ]
  },
  {
   "cell_type": "code",
   "execution_count": 13,
   "metadata": {},
   "outputs": [],
   "source": [
    "df_fastparquet.question.to_json('question.json', index=False, orient='records')"
   ]
  }
 ],
 "metadata": {
  "kernelspec": {
   "display_name": "Python 3",
   "language": "python",
   "name": "python3"
  },
  "language_info": {
   "codemirror_mode": {
    "name": "ipython",
    "version": 3
   },
   "file_extension": ".py",
   "mimetype": "text/x-python",
   "name": "python",
   "nbconvert_exporter": "python",
   "pygments_lexer": "ipython3",
   "version": "3.9.19"
  }
 },
 "nbformat": 4,
 "nbformat_minor": 2
}
